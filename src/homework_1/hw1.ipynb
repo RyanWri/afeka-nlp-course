{
 "cells": [
  {
   "cell_type": "code",
   "execution_count": 3,
   "metadata": {},
   "outputs": [],
   "source": [
    "import nltk\n",
    "import nltk\n",
    "import spacy\n",
    "from spacy.tokenizer import Tokenizer\n",
    "from spacy.lang.en import English\n",
    "from spacy.lang.he import Hebrew\n",
    "from nltk.tokenize.treebank import TreebankWordTokenizer, TreebankWordDetokenizer"
   ]
  },
  {
   "cell_type": "code",
   "execution_count": null,
   "metadata": {},
   "outputs": [],
   "source": [
    "nltk.download('punkt')"
   ]
  },
  {
   "cell_type": "code",
   "execution_count": null,
   "metadata": {},
   "outputs": [],
   "source": [
    "nltk.download('punkt_tab')"
   ]
  },
  {
   "cell_type": "code",
   "execution_count": 2,
   "metadata": {},
   "outputs": [
    {
     "name": "stdout",
     "output_type": "stream",
     "text": [
      "NLTK Tokenization: ['My', 'name', 'is', 'Israel', 'Israeli', ',', 'and', 'I', 'live', 'in', 'Israel', ',', 'in', 'Tel-Aviv', '.', 'I', \"'m\", 'studying', 'ComputerScience', 'in', 'Afeka', 'college', ',', 'and', 'although', 'I', 'ca', \"n't\", 'say', 'that', 'I', 'enjoy', 'every', 'moment', 'of', 'studying', ',', 'I', 'feel', 'like', 'I', \"'m\", 'learning', 'much', 'and', 'acquiring', 'programming', 'skills', 'that', 'will', 'help', 'me', 'find', 'a', 'good', 'job', 'as', 'a', 'waiter', '...', 'joking']\n"
     ]
    }
   ],
   "source": [
    "# Main text to test word_tokenize from nltk\n",
    "text = \"My name is Israel Israeli, and I live in Israel, in Tel-Aviv. I'm studying Computer\"\n",
    "text += \"Science in Afeka college, and although I can't say that I enjoy every moment of studying,\"\n",
    "text += \"I feel like I'm learning much and acquiring programming skills that will help me find a good job as a waiter... joking\"\n",
    "\n",
    "# NLTK tokenization example\n",
    "res = nltk.word_tokenize(text)\n",
    "print(\"NLTK Tokenization:\", res)\n"
   ]
  },
  {
   "cell_type": "code",
   "execution_count": 4,
   "metadata": {},
   "outputs": [],
   "source": [
    "def english():\n",
    "    # Initialize the English language model\n",
    "    nlp = English()\n",
    "    tokenizer = Tokenizer(nlp.vocab)\n",
    "    \n",
    "    text = \"My name is Israel Israeli, and I live in Israel, in Tel-Aviv.\"\n",
    "    # Use the nlp pipeline to process text before tokenization\n",
    "    doc = nlp(text)\n",
    "    tokens = [token.text for token in doc]  # Extract text from tokens\n",
    "    print(\"English Tokens:\", tokens)\n"
   ]
  },
  {
   "cell_type": "code",
   "execution_count": 5,
   "metadata": {},
   "outputs": [
    {
     "name": "stdout",
     "output_type": "stream",
     "text": [
      "English Tokens: ['My', 'name', 'is', 'Israel', 'Israeli', ',', 'and', 'I', 'live', 'in', 'Israel', ',', 'in', 'Tel', '-', 'Aviv', '.']\n"
     ]
    }
   ],
   "source": [
    "english()"
   ]
  },
  {
   "cell_type": "code",
   "execution_count": 6,
   "metadata": {},
   "outputs": [],
   "source": [
    "def hebrew():\n",
    "    # Initialize Hebrew tokenizer\n",
    "    text_hebrew = \"שלום כיתה א\"\n",
    "    nlp = Hebrew()\n",
    "    tokenizer = Tokenizer(nlp.vocab)\n",
    "    \n",
    "    doc = nlp(text_hebrew)\n",
    "    tokens = [token.text for token in doc]\n",
    "    print(\"Hebrew Tokens:\", tokens)\n",
    "\n",
    "    # Using Treebank Tokenizer and Detokenizer on English example text\n",
    "    text = \"My name is Israel Israeli, and I live in Israel, in Tel-Aviv.\"\n",
    "    t = TreebankWordTokenizer()\n",
    "    d = TreebankWordDetokenizer()\n",
    "    \n",
    "    toks = t.tokenize(text)\n",
    "    print(\"Treebank Tokenizer Output:\", toks)\n",
    "    \n",
    "    untoks = d.detokenize(toks)\n",
    "    print(\"Treebank Detokenizer Output:\", untoks)\n"
   ]
  },
  {
   "cell_type": "code",
   "execution_count": 7,
   "metadata": {},
   "outputs": [
    {
     "name": "stdout",
     "output_type": "stream",
     "text": [
      "Hebrew Tokens: ['שלום', 'כיתה', 'א']\n",
      "Treebank Tokenizer Output: ['My', 'name', 'is', 'Israel', 'Israeli', ',', 'and', 'I', 'live', 'in', 'Israel', ',', 'in', 'Tel-Aviv', '.']\n",
      "Treebank Detokenizer Output: My name is Israel Israeli, and I live in Israel, in Tel-Aviv.\n"
     ]
    }
   ],
   "source": [
    "hebrew()"
   ]
  },
  {
   "cell_type": "code",
   "execution_count": null,
   "metadata": {},
   "outputs": [],
   "source": []
  }
 ],
 "metadata": {
  "kernelspec": {
   "display_name": "venv",
   "language": "python",
   "name": "python3"
  },
  "language_info": {
   "codemirror_mode": {
    "name": "ipython",
    "version": 3
   },
   "file_extension": ".py",
   "mimetype": "text/x-python",
   "name": "python",
   "nbconvert_exporter": "python",
   "pygments_lexer": "ipython3",
   "version": "3.12.3"
  }
 },
 "nbformat": 4,
 "nbformat_minor": 2
}
